{
 "cells": [
  {
   "cell_type": "code",
   "execution_count": 1,
   "id": "b5eb857c-8e0a-4ee9-ba3c-9f075d5adffc",
   "metadata": {},
   "outputs": [
    {
     "name": "stdout",
     "output_type": "stream",
     "text": [
      "Longest word:  Exercises\n",
      "Length of the longest word:  9\n"
     ]
    }
   ],
   "source": [
    "def find_longest_word(words_list):\n",
    "    word_len = []\n",
    "    for n in words_list:\n",
    "        word_len.append((len(n), n))\n",
    "    word_len.sort()\n",
    "\n",
    "    return word_len[-1][0], word_len[-1][1]\n",
    "\n",
    "result = find_longest_word([\"PHP\", \"Exercises\", \"Backend\"])\n",
    "\n",
    "\n",
    "print(\"Longest word: \", result[1])\n",
    "print(\"Length of the longest word: \", result[0])"
   ]
  },
  {
   "cell_type": "code",
   "execution_count": 2,
   "id": "33e240cc-0889-4143-85ba-b4a0f5371bb9",
   "metadata": {},
   "outputs": [
    {
     "name": "stdin",
     "output_type": "stream",
     "text": [
      "Enter the string Suranjit\n"
     ]
    },
    {
     "name": "stdout",
     "output_type": "stream",
     "text": [
      "Sur\n"
     ]
    }
   ],
   "source": [
    "def first_three(str):\n",
    "    if len(str) > 3:\n",
    "        return str[:3]\n",
    "    else:\n",
    "        return str\n",
    "str=input(\"Enter the string\")\n",
    "print(first_three(str))      "
   ]
  },
  {
   "cell_type": "code",
   "execution_count": 6,
   "id": "a2db6c60-93ea-41ec-a0f4-d0026e0569a4",
   "metadata": {},
   "outputs": [
    {
     "name": "stdout",
     "output_type": "stream",
     "text": [
      "2\n"
     ]
    }
   ],
   "source": [
    "def match_words(words):\n",
    "    ctr = 0\n",
    "    for word in words:\n",
    "        if len(word) > 1 and word[0] == word[-1]:\n",
    "            ctr += 1\n",
    "\n",
    "    return ctr\n",
    "\n",
    "print(match_words(['abc', 'xyz', 'aba', '1221']))"
   ]
  },
  {
   "cell_type": "code",
   "execution_count": 8,
   "id": "7d3d5ff4-9450-4ffc-b673-e0ec4d7de733",
   "metadata": {},
   "outputs": [
    {
     "name": "stdout",
     "output_type": "stream",
     "text": [
      "List : [(2, 5), (1, 2), (4, 4), (2, 3), (2, 1)]\n",
      "Sorted : [(2, 1), (1, 2), (2, 3), (4, 4), (2, 5)]\n"
     ]
    }
   ],
   "source": [
    "def last(n):\n",
    "    return n[-1]\n",
    "def sort_list_last(tuples):\n",
    "    return sorted(tuples, key=last)\n",
    "print(\"List :\",[(2, 5), (1, 2), (4, 4), (2, 3), (2, 1)])\n",
    "print(\"Sorted :\",sort_list_last([(2, 5), (1, 2), (4, 4), (2, 3), (2, 1)]))"
   ]
  },
  {
   "cell_type": "code",
   "execution_count": 9,
   "id": "4b37da49-9325-4c28-8238-1212d439b0fb",
   "metadata": {},
   "outputs": [
    {
     "name": "stdout",
     "output_type": "stream",
     "text": [
      "['Green', 'White', 'Black']\n"
     ]
    }
   ],
   "source": [
    "color = ['Red', 'Green', 'White', 'Black', 'Pink', 'Yellow']\n",
    "color = [x for (i, x) in enumerate(color) if i not in (0, 4, 5)]\n",
    "print(color)"
   ]
  },
  {
   "cell_type": "code",
   "execution_count": 10,
   "id": "7987e8e3-755d-439c-a027-8b269613fffb",
   "metadata": {},
   "outputs": [
    {
     "name": "stdout",
     "output_type": "stream",
     "text": [
      "[(10, 20, 100), (40, 50, 100), (70, 80, 100)]\n"
     ]
    }
   ],
   "source": [
    "list = [(10, 20, 40), (40, 50, 60), (70, 80, 90)]\n",
    "print([t[:-1] + (100,) for t in list]) "
   ]
  },
  {
   "cell_type": "code",
   "execution_count": 11,
   "id": "fc79c38a-1072-4d4e-a409-6e67eedfd6f7",
   "metadata": {},
   "outputs": [
    {
     "name": "stdout",
     "output_type": "stream",
     "text": [
      "[('',), ('a', 'b'), ('a', 'b', 'c'), 'd']\n"
     ]
    }
   ],
   "source": [
    "L = [(), (), ('',), ('a', 'b'), ('a', 'b', 'c'), ('d')]\n",
    "L = [t for t in L if t]\n",
    "print(L) "
   ]
  },
  {
   "cell_type": "code",
   "execution_count": 12,
   "id": "d50c5d9d-7524-4fbd-96e8-0e619d009902",
   "metadata": {},
   "outputs": [
    {
     "name": "stdout",
     "output_type": "stream",
     "text": [
      "[('item3', '24.5'), ('item2', '15.10'), ('item1', '12.20')]\n"
     ]
    }
   ],
   "source": [
    "price = [('item1', '12.20'), ('item2', '15.10'), ('item3', '24.5')]\n",
    "sorted_price = sorted(price, key=lambda x: float(x[1]), reverse=True)\n",
    "print(sorted_price)"
   ]
  },
  {
   "cell_type": "code",
   "execution_count": 13,
   "id": "a9f234bb-1c3e-4380-bade-23ce67bc1f9b",
   "metadata": {},
   "outputs": [
    {
     "name": "stdout",
     "output_type": "stream",
     "text": [
      "True\n",
      "False\n"
     ]
    }
   ],
   "source": [
    "def is_samePatterns(colors, patterns):    \n",
    "    if len(colors) != len(patterns):\n",
    "        return False    \n",
    "    sdict = {}\n",
    "    pset = set()\n",
    "    sset = set()    \n",
    "    for i in range(len(patterns)):\n",
    "        pset.add(patterns[i])\n",
    "        sset.add(colors[i])\n",
    "        if patterns[i] not in sdict.keys():\n",
    "            sdict[patterns[i]] = []\n",
    "\n",
    "        keys = sdict[patterns[i]]\n",
    "        keys.append(colors[i])\n",
    "        sdict[patterns[i]] = keys\n",
    "\n",
    "    if len(pset) != len(sset):\n",
    "        return False   \n",
    "\n",
    "    for values in sdict.values():\n",
    "\n",
    "        for i in range(len(values) - 1):\n",
    "            if values[i] != values[i+1]:\n",
    "                return False\n",
    "\n",
    "    return True\n",
    "\n",
    "print(is_samePatterns([\"red\",\"green\", \"green\"], [\"a\", \"b\",\"b\"]))    \n",
    "print(is_samePatterns([\"red\",\"green\",\"greenn\"], [\"a\", \"b\", \"b\"]))    \n",
    " \n",
    " \n",
    "\n",
    " "
   ]
  },
  {
   "cell_type": "code",
   "execution_count": 14,
   "id": "a14d4334-9b65-4c13-be5d-c596352fde07",
   "metadata": {},
   "outputs": [
    {
     "name": "stdout",
     "output_type": "stream",
     "text": [
      "Original array: [1, 2, 3, 4, 7, 0, 8, 4]\n",
      "Maximum product pair is: (7, 8)\n",
      "\n",
      "Original array: [0, -1, -2, -4, 5, 0, -6]\n",
      "Maximum product pair is: (-4, -6)\n"
     ]
    }
   ],
   "source": [
    "def max_Product(arr): \n",
    "    arr_len = len(arr) \n",
    "    if (arr_len < 2): \n",
    "        print(\"No pairs exists\") \n",
    "        return      \n",
    "    x = arr[0]; y = arr[1] \n",
    "   \n",
    "    for i in range(0, arr_len): \n",
    "\n",
    "        for j in range(i + 1, arr_len): \n",
    "            if (arr[i] * arr[j] > x * y): \n",
    "                x = arr[i]; y = arr[j] \n",
    "\n",
    "    return x,y    \n",
    "\n",
    "nums = [1, 2, 3, 4, 7, 0, 8, 4] \n",
    "print(\"Original array:\", nums)\n",
    "print(\"Maximum product pair is:\", max_Product(nums))\n",
    "\n",
    "nums = [0, -1, -2, -4, 5, 0, -6] \n",
    "print(\"\\nOriginal array:\", nums)\n",
    "print(\"Maximum product pair is:\", max_Product(nums))"
   ]
  },
  {
   "cell_type": "code",
   "execution_count": 15,
   "id": "96a711e4-e165-4e9a-ba07-32c10a91cb48",
   "metadata": {},
   "outputs": [
    {
     "name": "stdout",
     "output_type": "stream",
     "text": [
      "False\n",
      "True\n",
      "False\n"
     ]
    }
   ],
   "source": [
    "def is_prime(num):\n",
    "  if num <= 1:\n",
    "    return False\n",
    "  if num <= 3:\n",
    "    return True\n",
    "  if num % 2 == 0 or num % 3 == 0:\n",
    "    return False\n",
    "  i = 5\n",
    "  while i * i <= num:\n",
    "    if num % i == 0 or num % (i + 2) == 0:\n",
    "      return False\n",
    "    i += 6\n",
    "  return True\n",
    "\n",
    "def all_prime(nums):\n",
    "  for num in nums:\n",
    "    if not is_prime(num):\n",
    "      return False\n",
    "  return True\n",
    "    \n",
    "# Sample data\n",
    "data = [[0, 3, 4, 7, 9], [3, 5, 7, 13], [1, 5, 3]]\n",
    "\n",
    "# Test the function with the sample data\n",
    "for nums in data:\n",
    "  print(all_prime(nums))\n"
   ]
  }
 ],
 "metadata": {
  "kernelspec": {
   "display_name": "Python 3 (ipykernel)",
   "language": "python",
   "name": "python3"
  },
  "language_info": {
   "codemirror_mode": {
    "name": "ipython",
    "version": 3
   },
   "file_extension": ".py",
   "mimetype": "text/x-python",
   "name": "python",
   "nbconvert_exporter": "python",
   "pygments_lexer": "ipython3",
   "version": "3.11.5"
  }
 },
 "nbformat": 4,
 "nbformat_minor": 5
}
